{
 "cells": [
  {
   "cell_type": "code",
   "execution_count": 4,
   "metadata": {},
   "outputs": [
    {
     "name": "stdout",
     "output_type": "stream",
     "text": [
      "Enter english marks: 5\n",
      "Enter math marks: 5\n",
      "Enter physics marks: 5\n",
      "Enter chemistry marks: 5\n",
      "Enter urdu marks: 5\n",
      "==========MARKS SHEET==========\n",
      "Total marks is : 500\n",
      "Obtained marks are:25\n",
      "Percentage is :5.0\n",
      "FAIL\n"
     ]
    }
   ],
   "source": [
    "\n",
    "english = int(input(\"Enter english marks: \"))\n",
    "math = int(input(\"Enter math marks: \"))\n",
    "physics = int(input(\"Enter physics marks: \"))\n",
    "chemistry = int(input(\"Enter chemistry marks: \"))\n",
    "urdu = int(input(\"Enter urdu marks: \"))\n",
    "obt_marks = english + math + physics + chemistry + urdu\n",
    "percentage = obt_marks / 500 * 100\n",
    "print(\"==========MARKS SHEET==========\")\n",
    "\n",
    "print(\"Total marks is : 500\")\n",
    "print(\"Obtained marks are:\" + str(obt_marks))\n",
    "print(\"Percentage is :\" + str(percentage))\n",
    "\n",
    "if percentage >= 80:\n",
    "    print(\"GRADE: A+\")\n",
    "elif percentage >= 70:\n",
    "    print(\"GRADE: A\")\n",
    "\n",
    "elif percentage >= 60:\n",
    "    print(\"GRADE: B\")\n",
    "elif percentage >= 50:\n",
    "    print(\"GRADE: C\")\n",
    "elif percentage >= 40:\n",
    "    print(\"GRADE: D\")\n",
    "elif percentage >= 33:\n",
    "    print(\"GRADE: E\")\n",
    "else:\n",
    "    print(\"FAIL\")"
   ]
  },
  {
   "cell_type": "code",
   "execution_count": null,
   "metadata": {},
   "outputs": [],
   "source": []
  }
 ],
 "metadata": {
  "kernelspec": {
   "display_name": "Python 3",
   "language": "python",
   "name": "python3"
  },
  "language_info": {
   "codemirror_mode": {
    "name": "ipython",
    "version": 3
   },
   "file_extension": ".py",
   "mimetype": "text/x-python",
   "name": "python",
   "nbconvert_exporter": "python",
   "pygments_lexer": "ipython3",
   "version": "3.7.4"
  }
 },
 "nbformat": 4,
 "nbformat_minor": 2
}
