{
 "cells": [
  {
   "cell_type": "code",
   "execution_count": 2,
   "metadata": {},
   "outputs": [
    {
     "name": "stdout",
     "output_type": "stream",
     "text": [
      "{1: 'M.', 2: 'Saad'}\n"
     ]
    }
   ],
   "source": [
    "class my_dictionary(dict): \n",
    "  \n",
    "    def __init__(self): \n",
    "        self = dict() \n",
    "          \n",
    "    def add(self, key, value): \n",
    "        self[key] = value \n",
    "   \n",
    "dict_obj = my_dictionary() \n",
    "  \n",
    "dict_obj.add(1, 'M.') \n",
    "dict_obj.add(2, 'Saad') \n",
    "  \n",
    "print(dict_obj) "
   ]
  },
  {
   "cell_type": "code",
   "execution_count": null,
   "metadata": {},
   "outputs": [],
   "source": []
  }
 ],
 "metadata": {
  "kernelspec": {
   "display_name": "Python 3",
   "language": "python",
   "name": "python3"
  },
  "language_info": {
   "codemirror_mode": {
    "name": "ipython",
    "version": 3
   },
   "file_extension": ".py",
   "mimetype": "text/x-python",
   "name": "python",
   "nbconvert_exporter": "python",
   "pygments_lexer": "ipython3",
   "version": "3.7.4"
  }
 },
 "nbformat": 4,
 "nbformat_minor": 2
}
