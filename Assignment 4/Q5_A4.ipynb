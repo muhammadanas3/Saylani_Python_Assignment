{
 "cells": [
  {
   "cell_type": "code",
   "execution_count": 14,
   "metadata": {},
   "outputs": [
    {
     "name": "stdout",
     "output_type": "stream",
     "text": [
      "Hello! What is your name?\n",
      "7\n",
      "Well, 7, I am thinking of a number between 1 and 20.\n",
      "Take a guess.\n",
      "8\n",
      "Your guess is too low.\n",
      "Take a guess.\n",
      "14\n",
      "Your guess is too low.\n",
      "Take a guess.\n",
      "20\n",
      "Your guess is too high.\n",
      "Take a guess.\n",
      "20\n",
      "Your guess is too high.\n",
      "Take a guess.\n",
      "20\n",
      "Your guess is too high.\n",
      "Take a guess.\n",
      "19\n",
      "Your guess is too high.\n",
      "Nope. The number I was thinking of was 16\n"
     ]
    }
   ],
   "source": [
    "import random\n",
    "\n",
    "guessesTaken = 0\n",
    "\n",
    "print('Hello! What is your name?')\n",
    "myName = input()\n",
    "\n",
    "number = random.randint(1, 20)\n",
    "\n",
    "print('Well, ' + myName + ', I am thinking of a number between 1 and 20.')\n",
    "\n",
    "\n",
    "while guessesTaken < 6:\n",
    "\n",
    "    print('Take a guess.')\n",
    "\n",
    "    guess = input()\n",
    "\n",
    "    guess = int(guess)\n",
    "\n",
    "    guessesTaken = guessesTaken + 1\n",
    "\n",
    "    if guess < number:\n",
    "\n",
    "         print('Your guess is too low.')\n",
    "\n",
    "    if guess > number:\n",
    "\n",
    "         print('Your guess is too high.')\n",
    "\n",
    "    if guess == number:\n",
    "\n",
    "        break\n",
    "\n",
    "if guess == number:\n",
    "\n",
    "    guessesTaken = str(guessesTaken)\n",
    "\n",
    "    print('Good job, ' + myName + '! You guessed my number in ' + guessesTaken + ' guesses!')\n",
    "\n",
    "if guess != number:\n",
    "\n",
    "    number = str(number)\n",
    "    \n",
    "    print('Nope. The number I was thinking of was ' + number)"
   ]
  },
  {
   "cell_type": "code",
   "execution_count": null,
   "metadata": {},
   "outputs": [],
   "source": []
  }
 ],
 "metadata": {
  "kernelspec": {
   "display_name": "Python 3",
   "language": "python",
   "name": "python3"
  },
  "language_info": {
   "codemirror_mode": {
    "name": "ipython",
    "version": 3
   },
   "file_extension": ".py",
   "mimetype": "text/x-python",
   "name": "python",
   "nbconvert_exporter": "python",
   "pygments_lexer": "ipython3",
   "version": "3.7.4"
  }
 },
 "nbformat": 4,
 "nbformat_minor": 2
}
