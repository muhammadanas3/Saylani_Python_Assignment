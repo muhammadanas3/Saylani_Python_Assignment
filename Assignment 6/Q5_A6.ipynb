{
 "cells": [
  {
   "cell_type": "code",
   "execution_count": 2,
   "metadata": {},
   "outputs": [],
   "source": [
    "class Car:\n",
    "\n",
    "    def __init__(self, model, color, name, company, style):\n",
    "        self.model = model\n",
    "        self.color = color\n",
    "        self.name = name\n",
    "        self.company = company\n",
    "        self.style = style\n",
    "\n",
    "   \n",
    "\n",
    "car1 = Car(\n",
    "    \"2015\",\n",
    "    \"black\",\n",
    "    \"Corolla\",\n",
    "    \"Toyota\",\n",
    "    \"none\"\n",
    ")\n",
    "\n",
    "car2 = Car(\n",
    "    \"2015\",\n",
    "    \"black\",\n",
    "    \"Corolla\",\n",
    "    \"Toyota\",\n",
    "    \"none\"\n",
    ")\n",
    "\n",
    "car3 = Car(\n",
    "    \"2015\",\n",
    "    \"black\",\n",
    "    \"Corolla\",\n",
    "    \"Toyota\",\n",
    "    \"none\"\n",
    ")\n",
    "\n",
    "car4 = Car(\n",
    "    \"2015\",\n",
    "    \"black\",\n",
    "    \"Corolla\",\n",
    "    \"Toyota\",\n",
    "    \"none\"\n",
    ")\n",
    "\n",
    "car5 = Car(\n",
    "    \"2015\",\n",
    "    \"black\",\n",
    "    \"Corolla\",\n",
    "    \"Toyota\",\n",
    "    \"none\"\n",
    ")\n",
    "\n"
   ]
  },
  {
   "cell_type": "code",
   "execution_count": null,
   "metadata": {},
   "outputs": [],
   "source": []
  }
 ],
 "metadata": {
  "kernelspec": {
   "display_name": "Python 3",
   "language": "python",
   "name": "python3"
  },
  "language_info": {
   "codemirror_mode": {
    "name": "ipython",
    "version": 3
   },
   "file_extension": ".py",
   "mimetype": "text/x-python",
   "name": "python",
   "nbconvert_exporter": "python",
   "pygments_lexer": "ipython3",
   "version": "3.7.4"
  }
 },
 "nbformat": 4,
 "nbformat_minor": 2
}
